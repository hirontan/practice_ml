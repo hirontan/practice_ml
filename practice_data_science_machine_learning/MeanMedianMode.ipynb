{
 "cells": [
  {
   "cell_type": "markdown",
   "metadata": {},
   "source": [
    "# 平均値、中央値、モード"
   ]
  },
  {
   "cell_type": "markdown",
   "metadata": {},
   "source": [
    "## 平均値 vs. 中央値"
   ]
  },
  {
   "cell_type": "markdown",
   "metadata": {},
   "source": [
    "疑似的な収入分布を作りましょう。27000を中央にした正規分布で、標準偏差は15000、データ数は10000とします。（用語については後程解説します。）\n",
    "そして、平均値を計算してみましょう。27000に近くなるはずです。"
   ]
  },
  {
   "cell_type": "code",
   "execution_count": 6,
   "metadata": {},
   "outputs": [
    {
     "data": {
      "text/plain": [
       "27119.99403762142"
      ]
     },
     "execution_count": 6,
     "metadata": {},
     "output_type": "execute_result"
    }
   ],
   "source": [
    "import numpy as np\n",
    "\n",
    "## 正規分布、27000の中央値、15000の標準偏差、10000の数値\n",
    "incomes = np.random.normal(27000, 15000, 10000)\n",
    "np.mean(incomes)"
   ]
  },
  {
   "cell_type": "markdown",
   "metadata": {},
   "source": [
    "収入データを50個にセグメント化し、ヒストグラムにプロットすることもできます。"
   ]
  },
  {
   "cell_type": "code",
   "execution_count": 7,
   "metadata": {},
   "outputs": [
    {
     "data": {
      "image/png": "[encoded data removed]",
      "text/plain": [
       "<Figure size 432x288 with 1 Axes>"
      ]
     },
     "metadata": {
      "needs_background": "light"
     },
     "output_type": "display_data"
    }
   ],
   "source": [
    "%matplotlib inline\n",
    "import matplotlib.pyplot as plt\n",
    "\n",
    "## ヒストグラム化\n",
    "plt.hist(incomes, 50)\n",
    "plt.show()"
   ]
  },
  {
   "cell_type": "markdown",
   "metadata": {},
   "source": [
    "中央値を計算してみましょう。今回はきれいな分布をしているため、中央値は平均値と同様に27000に近くなります。"
   ]
  },
  {
   "cell_type": "code",
   "execution_count": 9,
   "metadata": {},
   "outputs": [
    {
     "data": {
      "text/plain": [
       "27262.090086006785"
      ]
     },
     "execution_count": 9,
     "metadata": {},
     "output_type": "execute_result"
    }
   ],
   "source": [
    "## 中央値の計算：中央値は平均と近しい結果になる\n",
    "np.median(incomes)"
   ]
  },
  {
   "cell_type": "markdown",
   "metadata": {},
   "source": [
    "大富豪をデータに混ぜてみましょう。所得格差を実感してみましょう。"
   ]
  },
  {
   "cell_type": "code",
   "execution_count": 10,
   "metadata": {},
   "outputs": [],
   "source": [
    "incomes = np.append(incomes, [1000000000])"
   ]
  },
  {
   "cell_type": "markdown",
   "metadata": {},
   "source": [
    "中央値は大きく変わりませんが、平均値は大きく変わります。"
   ]
  },
  {
   "cell_type": "code",
   "execution_count": 11,
   "metadata": {},
   "outputs": [
    {
     "data": {
      "text/plain": [
       "27262.631791810247"
      ]
     },
     "execution_count": 11,
     "metadata": {},
     "output_type": "execute_result"
    }
   ],
   "source": [
    "np.median(incomes)"
   ]
  },
  {
   "cell_type": "code",
   "execution_count": 13,
   "metadata": {},
   "outputs": [
    {
     "data": {
      "text/plain": [
       "127107.28330929049"
      ]
     },
     "execution_count": 13,
     "metadata": {},
     "output_type": "execute_result"
    }
   ],
   "source": [
    "## 平均値を大きく歪ませる可能性があるから、データの異常値を検知する必要がある\n",
    "np.mean(incomes)"
   ]
  },
  {
   "cell_type": "markdown",
   "metadata": {},
   "source": [
    "## モード"
   ]
  },
  {
   "cell_type": "markdown",
   "metadata": {},
   "source": [
    "次に、疑似的な年齢のデータを500人分作りましょう。"
   ]
  },
  {
   "cell_type": "code",
   "execution_count": 17,
   "metadata": {},
   "outputs": [
    {
     "data": {
      "text/plain": [
       "array([66, 78, 87, 30, 84, 49, 57, 68, 19, 43, 88, 41, 22, 83, 73, 84, 38,\n",
       "       68, 21, 67, 37, 24, 81, 19, 84, 23, 88, 63, 30, 37, 75, 47, 77, 75,\n",
       "       76, 22, 49, 27, 72, 27, 74, 70, 79, 52, 45, 56, 45, 44, 75, 64, 62,\n",
       "       88, 60, 73, 31, 40, 18, 59, 33, 62, 67, 63, 73, 77, 32, 67, 26, 85,\n",
       "       76, 30, 76, 80, 39, 57, 56, 72, 87, 47, 40, 66, 24, 20, 73, 80, 30,\n",
       "       54, 82, 85, 86, 49, 88, 68, 46, 19, 52, 43, 65, 77, 40, 18, 19, 42,\n",
       "       42, 68, 47, 62, 74, 77, 82, 64, 42, 38, 39, 36, 21, 66, 60, 74, 47,\n",
       "       78, 72, 30, 24, 45, 49, 80, 70, 39, 80, 24, 28, 79, 75, 24, 67, 42,\n",
       "       43, 62, 19, 58, 41, 40, 74, 40, 70, 82, 70, 22, 22, 29, 74, 30, 88,\n",
       "       77, 44, 26, 75, 42, 66, 32, 79, 40, 43, 52, 74, 74, 27, 23, 60, 56,\n",
       "       74, 83, 28, 43, 76, 68, 47, 45, 75, 78, 42, 45, 79, 24, 47, 85, 54,\n",
       "       41, 63, 89, 28, 22, 62, 27, 32, 76, 80, 41, 26, 86, 45, 89, 82, 49,\n",
       "       45, 45, 59, 56, 82, 44, 80, 76, 35, 78, 52, 67, 60, 28, 70, 28, 74,\n",
       "       76, 77, 74, 43, 89, 47, 62, 30, 75, 87, 73, 22, 47, 78, 59, 79, 83,\n",
       "       69, 25, 85, 36, 77, 23, 30, 55, 86, 47, 70, 27, 53, 22, 87, 78, 36,\n",
       "       69, 71, 83, 70, 29, 75, 78, 76, 50, 23, 49, 45, 25, 88, 28, 75, 41,\n",
       "       71, 37, 30, 50, 40, 79, 40, 63, 20, 20, 73, 80, 75, 83, 71, 89, 62,\n",
       "       66, 75, 19, 89, 69, 86, 60, 27, 59, 69, 38, 80, 49, 66, 38, 73, 31,\n",
       "       51, 86, 66, 74, 66, 25, 38, 25, 35, 35, 65, 51, 34, 75, 18, 59, 22,\n",
       "       56, 25, 87, 38, 69, 85, 49, 81, 74, 31, 81, 84, 50, 32, 38, 61, 81,\n",
       "       88, 68, 21, 56, 32, 20, 69, 56, 42, 33, 34, 66, 28, 65, 43, 75, 59,\n",
       "       35, 84, 60, 80, 36, 24, 23, 26, 23, 37, 50, 88, 41, 74, 37, 80, 70,\n",
       "       45, 59, 20, 38, 50, 83, 33, 54, 79, 40, 73, 53, 58, 59, 84, 19, 78,\n",
       "       65, 58, 20, 87, 48, 64, 66, 32, 65, 54, 77, 24, 21, 32, 26, 37, 81,\n",
       "       35, 42, 25, 19, 51, 76, 58, 76, 66, 39, 22, 51, 21, 73, 89, 80, 45,\n",
       "       41, 81, 74, 78, 27, 73, 77, 36, 59, 85, 39, 70, 29, 56, 65, 66, 87,\n",
       "       62, 88, 37, 24, 63, 30, 54, 43, 75, 85, 84, 47, 81, 20, 48, 84, 40,\n",
       "       63, 80, 81, 81, 52, 37, 56, 46, 72, 72, 63, 60, 55, 33, 86, 50, 35,\n",
       "       67, 71, 47, 25, 24, 31, 20, 77, 88, 84, 34, 36, 53, 84, 88, 56, 35,\n",
       "       27, 28, 18, 53, 63, 80, 62])"
      ]
     },
     "execution_count": 17,
     "metadata": {},
     "output_type": "execute_result"
    }
   ],
   "source": [
    "## 18〜90の乱数を500作る\n",
    "ages = np.random.randint(18, high=90, size=500)\n",
    "ages"
   ]
  },
  {
   "cell_type": "code",
   "execution_count": 19,
   "metadata": {},
   "outputs": [
    {
     "data": {
      "text/plain": [
       "ModeResult(mode=array([74]), count=array([14]))"
      ]
     },
     "execution_count": 19,
     "metadata": {},
     "output_type": "execute_result"
    }
   ],
   "source": [
    "from scipy import stats\n",
    "\n",
    "## モードの値（最頻値）を取得する\n",
    "stats.mode(ages)"
   ]
  },
  {
   "cell_type": "code",
   "execution_count": null,
   "metadata": {},
   "outputs": [],
   "source": []
  }
 ],
 "metadata": {
  "kernelspec": {
   "display_name": "Python 3",
   "language": "python",
   "name": "python3"
  },
  "language_info": {
   "codemirror_mode": {
    "name": "ipython",
    "version": 3
   },
   "file_extension": ".py",
   "mimetype": "text/x-python",
   "name": "python",
   "nbconvert_exporter": "python",
   "pygments_lexer": "ipython3",
   "version": "3.7.3"
  }
 },
 "nbformat": 4,
 "nbformat_minor": 1
}
