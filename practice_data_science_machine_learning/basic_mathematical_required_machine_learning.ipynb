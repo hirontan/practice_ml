{
 "cells": [
  {
   "cell_type": "markdown",
   "metadata": {},
   "source": [
    "## ベクトル"
   ]
  },
  {
   "cell_type": "code",
   "execution_count": 1,
   "metadata": {},
   "outputs": [],
   "source": [
    "import numpy as np"
   ]
  },
  {
   "cell_type": "code",
   "execution_count": 2,
   "metadata": {},
   "outputs": [
    {
     "data": {
      "text/plain": [
       "array([2, 1])"
      ]
     },
     "execution_count": 2,
     "metadata": {},
     "output_type": "execute_result"
    }
   ],
   "source": [
    "# ベクトルを定義\n",
    "a = np.array([2, 1])\n",
    "a"
   ]
  },
  {
   "cell_type": "code",
   "execution_count": 3,
   "metadata": {},
   "outputs": [
    {
     "data": {
      "text/plain": [
       "numpy.ndarray"
      ]
     },
     "execution_count": 3,
     "metadata": {},
     "output_type": "execute_result"
    }
   ],
   "source": [
    "type(a)"
   ]
  },
  {
   "cell_type": "code",
   "execution_count": 5,
   "metadata": {},
   "outputs": [
    {
     "data": {
      "text/plain": [
       "array([[1, 2],\n",
       "       [3, 4]])"
      ]
     },
     "execution_count": 5,
     "metadata": {},
     "output_type": "execute_result"
    }
   ],
   "source": [
    "# 縦ベクトル\n",
    "c = np.array([[1, 2], [3, 4]])\n",
    "c"
   ]
  },
  {
   "cell_type": "code",
   "execution_count": 6,
   "metadata": {},
   "outputs": [
    {
     "data": {
      "text/plain": [
       "array([[1],\n",
       "       [2]])"
      ]
     },
     "execution_count": 6,
     "metadata": {},
     "output_type": "execute_result"
    }
   ],
   "source": [
    "d = np.array([[1], [2]])\n",
    "d"
   ]
  },
  {
   "cell_type": "code",
   "execution_count": 7,
   "metadata": {},
   "outputs": [
    {
     "data": {
      "text/plain": [
       "array([[1, 2]])"
      ]
     },
     "execution_count": 7,
     "metadata": {},
     "output_type": "execute_result"
    }
   ],
   "source": [
    "# 転置\n",
    "d.T"
   ]
  },
  {
   "cell_type": "code",
   "execution_count": 9,
   "metadata": {},
   "outputs": [
    {
     "data": {
      "text/plain": [
       "array([[1],\n",
       "       [2]])"
      ]
     },
     "execution_count": 9,
     "metadata": {},
     "output_type": "execute_result"
    }
   ],
   "source": [
    "d.T.T  # => 転置を２回繰り返すことで元に戻る"
   ]
  },
  {
   "cell_type": "code",
   "execution_count": 10,
   "metadata": {},
   "outputs": [
    {
     "data": {
      "text/plain": [
       "array([3, 4])"
      ]
     },
     "execution_count": 10,
     "metadata": {},
     "output_type": "execute_result"
    }
   ],
   "source": [
    "# 足し算と引き算\n",
    "b = np.array([1, 3])\n",
    "a + b"
   ]
  },
  {
   "cell_type": "code",
   "execution_count": 11,
   "metadata": {},
   "outputs": [
    {
     "data": {
      "text/plain": [
       "array([ 1, -2])"
      ]
     },
     "execution_count": 11,
     "metadata": {},
     "output_type": "execute_result"
    }
   ],
   "source": [
    "a - b"
   ]
  },
  {
   "cell_type": "code",
   "execution_count": 12,
   "metadata": {},
   "outputs": [
    {
     "data": {
      "text/plain": [
       "array([4, 2])"
      ]
     },
     "execution_count": 12,
     "metadata": {},
     "output_type": "execute_result"
    }
   ],
   "source": [
    "# スカラーとの掛け算\n",
    "2 * a"
   ]
  },
  {
   "cell_type": "code",
   "execution_count": 14,
   "metadata": {},
   "outputs": [
    {
     "data": {
      "text/plain": [
       "10"
      ]
     },
     "execution_count": 14,
     "metadata": {},
     "output_type": "execute_result"
    }
   ],
   "source": [
    "# 内積\n",
    "b = np.array([1, 3])\n",
    "c = np.array([4, 2])\n",
    "b.dot(c)"
   ]
  },
  {
   "cell_type": "code",
   "execution_count": 16,
   "metadata": {},
   "outputs": [
    {
     "data": {
      "text/plain": [
       "3.1622776601683795"
      ]
     },
     "execution_count": 16,
     "metadata": {},
     "output_type": "execute_result"
    }
   ],
   "source": [
    "# 二次元ベクトルの大きさ\n",
    "a = np.array([1, 3])\n",
    "np.linalg.norm(a)"
   ]
  },
  {
   "cell_type": "code",
   "execution_count": 1,
   "metadata": {},
   "outputs": [
    {
     "name": "stdout",
     "output_type": "stream",
     "text": [
      "Once deleted, variables cannot be recovered. Proceed (y/[n])? y\n"
     ]
    }
   ],
   "source": [
    "%reset"
   ]
  },
  {
   "cell_type": "code",
   "execution_count": 2,
   "metadata": {},
   "outputs": [],
   "source": [
    "import numpy as np"
   ]
  },
  {
   "cell_type": "code",
   "execution_count": 5,
   "metadata": {},
   "outputs": [
    {
     "data": {
      "text/plain": [
       "500500.0"
      ]
     },
     "execution_count": 5,
     "metadata": {},
     "output_type": "execute_result"
    }
   ],
   "source": [
    "# 和を内積として計算する\n",
    "a = np.ones(1000)    # [1, 1, ... , 1]\n",
    "b = np.arange(1, 1001)   # [1, 2, ... , 1000]\n",
    "a.dot(b)"
   ]
  },
  {
   "cell_type": "code",
   "execution_count": 6,
   "metadata": {},
   "outputs": [
    {
     "data": {
      "image/png": "[encoded data removed]",
      "text/plain": [
       "<Figure size 648x288 with 2 Axes>"
      ]
     },
     "metadata": {
      "needs_background": "light"
     },
     "output_type": "display_data"
    }
   ],
   "source": [
    "# 勾配を図で表す\n",
    "import matplotlib.pyplot as plt\n",
    "%matplotlib inline\n",
    "\n",
    "## fの定義\n",
    "def f(w0, w1):\n",
    "    return ((w0 ** 2) + (2 * w0 * w1) + 3)\n",
    "\n",
    "## fのw0に関する偏微分\n",
    "def df_dw0(w0, w1):\n",
    "    return ((2 * w0) + (2 * w1))\n",
    "\n",
    "## fのw1に関する偏微分\n",
    "def df_dw1(w0, w1):\n",
    "    return ((2 * w0) + (0 * w1))\n",
    "\n",
    "w_range = 2\n",
    "dw = 0.25\n",
    "\n",
    "## arange 等差数列を生成\n",
    "w0 = np.arange(-w_range, w_range + dw, dw)\n",
    "w1 = np.arange(-w_range, w_range + dw, dw)\n",
    "\n",
    "## 配列の要素から格子列を生成\n",
    "ww0, ww1 = np.meshgrid(w0, w1)\n",
    "\n",
    "## zeros 0で初期化した配列\n",
    "ff = np.zeros((len(w0), len(w1)))\n",
    "dff_dw0 = np.zeros((len(w0), len(w1)))\n",
    "dff_dw1 = np.zeros((len(w0), len(w1)))\n",
    "\n",
    "for i0 in range(len(w0)):\n",
    "    for i1 in range(len(w1)):\n",
    "        ff[i1, i0] = f(w0[i0], w1[i1])\n",
    "        dff_dw0[i1, i0] = df_dw0(w0[i0], w1[i1])\n",
    "        dff_dw1[i1, i0] = df_dw1(w0[i0], w1[i1])\n",
    "\n",
    "\n",
    "plt.figure(figsize=(9, 4))\n",
    "plt.subplots_adjust(wspace=0.3)  # グラフ間の間隔を調整\n",
    "plt.subplot(1, 2, 1)  #  一つの描画キャンパスを複数の領域に分割\n",
    "\n",
    "## fの等高線表示\n",
    "cont = plt.contour(ww0, ww1, ff, 10, colors='k')   # 等高線を描画\n",
    "cont.clabel(fmt='%d', fontsize=8)  # ラベル\n",
    "plt.xticks(range(-w_range, w_range + 1, 1))  # X軸の目盛り\n",
    "plt.yticks(range(-w_range, w_range + 1, 1))  # Y軸の目盛り\n",
    "plt.xlim(-w_range - 0.5, w_range + 0.5)  # グラフの描画範囲を決める（X）\n",
    "plt.ylim(-w_range - 0.5, w_range + 0.5)  # グラフの描画範囲を決める（Y）\n",
    "plt.xlabel('$w_0$', fontsize=14)  # ラベル\n",
    "plt.ylabel('$w_1$', fontsize=14)  # ラベル\n",
    "\n",
    "## fの勾配のベクトル表示\n",
    "plt.subplot(1, 2, 2)\n",
    "plt.quiver(ww0, ww1, dff_dw0, dff_dw1)\n",
    "plt.xlabel('$w_0$', fontsize=14)\n",
    "plt.ylabel('$w_1$', fontsize=14)\n",
    "plt.xticks(range(-w_range, w_range + 1, 1))\n",
    "plt.yticks(range(-w_range, w_range + 1, 1))\n",
    "plt.xlim(-w_range - 0.5, w_range + 0.5)\n",
    "plt.ylim(-w_range - 0.5, w_range + 0.5)\n",
    "plt.show()"
   ]
  },
  {
   "cell_type": "code",
   "execution_count": null,
   "metadata": {},
   "outputs": [],
   "source": []
  }
 ],
 "metadata": {
  "kernelspec": {
   "display_name": "Python 3",
   "language": "python",
   "name": "python3"
  },
  "language_info": {
   "codemirror_mode": {
    "name": "ipython",
    "version": 3
   },
   "file_extension": ".py",
   "mimetype": "text/x-python",
   "name": "python",
   "nbconvert_exporter": "python",
   "pygments_lexer": "ipython3",
   "version": "3.7.3"
  }
 },
 "nbformat": 4,
 "nbformat_minor": 2
}
